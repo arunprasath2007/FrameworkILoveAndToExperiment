{
  "nbformat": 4,
  "nbformat_minor": 0,
  "metadata": {
    "colab": {
      "name": "Neural Networks from Scratch.ipynb",
      "provenance": [],
      "authorship_tag": "ABX9TyO/g9GqtlupzMzJN+qA1oIa",
      "include_colab_link": true
    },
    "kernelspec": {
      "name": "python3",
      "display_name": "Python 3"
    }
  },
  "cells": [
    {
      "cell_type": "markdown",
      "metadata": {
        "id": "view-in-github",
        "colab_type": "text"
      },
      "source": [
        "<a href=\"https://colab.research.google.com/github/arunprasath2007/FrameworkILoveAndToExperiment/blob/master/Neural_Networks_from_Scratch.ipynb\" target=\"_parent\"><img src=\"https://colab.research.google.com/assets/colab-badge.svg\" alt=\"Open In Colab\"/></a>"
      ]
    },
    {
      "cell_type": "markdown",
      "metadata": {
        "id": "fbJRFGif0TaJ"
      },
      "source": [
        "Single Neuron (single input, weight, bias)\n"
      ]
    },
    {
      "cell_type": "code",
      "metadata": {
        "id": "fdPieui_ztlD",
        "outputId": "407ed4fa-9710-44d7-8d86-f4d866802715",
        "colab": {
          "base_uri": "https://localhost:8080/",
          "height": 34
        }
      },
      "source": [
        "input = 2.0\n",
        "\n",
        "weight = 3.0\n",
        "bias = 1.0\n",
        "\n",
        "output = input * weight + bias\n",
        "output"
      ],
      "execution_count": 4,
      "outputs": [
        {
          "output_type": "execute_result",
          "data": {
            "text/plain": [
              "7.0"
            ]
          },
          "metadata": {
            "tags": []
          },
          "execution_count": 4
        }
      ]
    },
    {
      "cell_type": "markdown",
      "metadata": {
        "id": "4oiPSBci0ar1"
      },
      "source": [
        "Single Neuron (multiple input and weights, bias)"
      ]
    },
    {
      "cell_type": "code",
      "metadata": {
        "id": "0nIXEuFU0aAx",
        "outputId": "fab1506f-c1b8-4d9f-d2c9-67110f5152c6",
        "colab": {
          "base_uri": "https://localhost:8080/",
          "height": 34
        }
      },
      "source": [
        "inputs = [1.0, 2.0, 3.5]\n",
        "\n",
        "\n",
        "weights = [1.5, 2.4, 5.4]\n",
        "bias = 2.0\n",
        "\n",
        "output = inputs[0]*weights[0] + inputs[1]*weights[1] + inputs[2]*weights[2] + bias\n",
        "output"
      ],
      "execution_count": 5,
      "outputs": [
        {
          "output_type": "execute_result",
          "data": {
            "text/plain": [
              "27.200000000000003"
            ]
          },
          "metadata": {
            "tags": []
          },
          "execution_count": 5
        }
      ]
    },
    {
      "cell_type": "markdown",
      "metadata": {
        "id": "R1YcQYGA1oh1"
      },
      "source": [
        "Two neuron, 3 inputs, 2 weight parameters, 2 bias"
      ]
    },
    {
      "cell_type": "code",
      "metadata": {
        "id": "6yQTTKn71ej_",
        "outputId": "d62369e7-c39b-4820-e4cb-304879457804",
        "colab": {
          "base_uri": "https://localhost:8080/",
          "height": 51
        }
      },
      "source": [
        "inputs = [1.0, 2.0, 3.5]\n",
        "\n",
        "weight1 = [1.5, 2.4, 5.4]\n",
        "weight2 = [3.2, 2.3, 1.6]\n",
        "\n",
        "bias1 = 2.0\n",
        "bias2 = 2.1\n",
        "\n",
        "output1 = inputs[0]*weight1[0] + inputs[1]*weight1[1] + inputs[2]*weight1[2] + bias1\n",
        "output2 = inputs[0]*weight2[0] + inputs[1]*weight2[1] + inputs[2]*weight2[2] + bias2\n",
        "\n",
        "print(output1)\n",
        "print(output2)"
      ],
      "execution_count": 8,
      "outputs": [
        {
          "output_type": "stream",
          "text": [
            "27.200000000000003\n",
            "15.5\n"
          ],
          "name": "stdout"
        }
      ]
    },
    {
      "cell_type": "markdown",
      "metadata": {
        "id": "qVuLdYsk3L90"
      },
      "source": [
        "Plain loop"
      ]
    },
    {
      "cell_type": "code",
      "metadata": {
        "id": "qtwZfE8i3Kgl",
        "outputId": "54cf5b04-b1e7-4aa8-c61b-75b20ba2ef2e",
        "colab": {
          "base_uri": "https://localhost:8080/",
          "height": 34
        }
      },
      "source": [
        "inputs = [1, 2, 3, 2.5]\n",
        "\n",
        "weights = [[0.2, 0.8, -0.5, 1],\n",
        "           [0.5, -0.91, 0.26, -0.5],\n",
        "           [-0.26, -0.27, 0.17, 0.87]]\n",
        "\n",
        "biases = [2, 3, 0.5]\n",
        "\n",
        "layered_outputs = []\n",
        "\n",
        "for neuron_weight, neuron_bias in zip(weights, biases):\n",
        "  neuron_output = 0\n",
        "\n",
        "  for neuron_input, weight in zip(inputs, neuron_weight):\n",
        "    neuron_output += neuron_input * weight\n",
        "  output = neuron_output + neuron_bias\n",
        "\n",
        "  layered_outputs.append(output)\n",
        "\n",
        "layered_outputs\n",
        "\n"
      ],
      "execution_count": 19,
      "outputs": [
        {
          "output_type": "execute_result",
          "data": {
            "text/plain": [
              "[4.8, 1.21, 2.385]"
            ]
          },
          "metadata": {
            "tags": []
          },
          "execution_count": 19
        }
      ]
    },
    {
      "cell_type": "markdown",
      "metadata": {
        "id": "mIcobm4Y_Kvp"
      },
      "source": [
        "Using Numpy"
      ]
    },
    {
      "cell_type": "code",
      "metadata": {
        "id": "2j1irMmW_KON",
        "outputId": "50ac4bab-3e1a-4915-d9ef-6c41f3c4c28d",
        "colab": {
          "base_uri": "https://localhost:8080/",
          "height": 51
        }
      },
      "source": [
        "import numpy as np\n",
        "\n",
        "inputs = [1.0, 2.0, 3.0, 2.5]\n",
        "\n",
        "weights = [[0.2, 0.8, -0.5, 1],\n",
        "           [0.5, -0.91, 0.26, -0.5],\n",
        "           [-0.26, -0.27, 0.17, 0.87]]\n",
        "\n",
        "biases = [2.0, 3.0, 0.5]\n",
        "\n",
        "layered_outputs = np.dot(weights, inputs) + biases\n",
        "layered_outputs_T = np.dot(inputs, np.array(weights).T) + biases\n",
        "\n",
        "print(layered_outputs)\n",
        "print(layered_outputs_T)"
      ],
      "execution_count": 23,
      "outputs": [
        {
          "output_type": "stream",
          "text": [
            "[4.8   1.21  2.385]\n",
            "[4.8   1.21  2.385]\n"
          ],
          "name": "stdout"
        }
      ]
    },
    {
      "cell_type": "markdown",
      "metadata": {
        "id": "nJs5sBEi0GFg"
      },
      "source": [
        "Dot product of two vectors\n"
      ]
    },
    {
      "cell_type": "code",
      "metadata": {
        "id": "A1g61pq60Jn-",
        "outputId": "b9163b0e-1099-4754-b1a8-0dfea2d3fad7",
        "colab": {
          "base_uri": "https://localhost:8080/",
          "height": 34
        }
      },
      "source": [
        "import numpy as np\n",
        "\n",
        "a = [1, 2, 3]\n",
        "b = [2, 3, 4]\n",
        "\n",
        "a = np.array([a])\n",
        "b = np.array([b]).T\n",
        "\n",
        "c =np.dot(a, b) \n",
        "c"
      ],
      "execution_count": 4,
      "outputs": [
        {
          "output_type": "execute_result",
          "data": {
            "text/plain": [
              "array([[20]])"
            ]
          },
          "metadata": {
            "tags": []
          },
          "execution_count": 4
        }
      ]
    },
    {
      "cell_type": "markdown",
      "metadata": {
        "id": "N4rLC1La2pzs"
      },
      "source": [
        "Inputs as batches (This is where Matrix product comes into picture)"
      ]
    },
    {
      "cell_type": "code",
      "metadata": {
        "id": "MkMzyIgq2pSe",
        "outputId": "9c23900a-d204-4914-92b9-8000be4b3c64",
        "colab": {
          "base_uri": "https://localhost:8080/",
          "height": 68
        }
      },
      "source": [
        "inputs = [[1.0, 2.0, 3.0, 2.5],\n",
        "          [2.0, 5.0, -1.0, 2.0],\n",
        "          [-1.5, 2.7, 3.3, -0.8]]\n",
        "\n",
        "weights = [[0.2, 0.8, -0.5, 1],\n",
        "           [0.5, -0.91, 0.26, -0.5],\n",
        "           [-0.26, -0.27, 0.17, 0.87]]\n",
        "\n",
        "biases = [2.0, 3.0, 0.5]\n",
        "\n",
        "output = np.dot(inputs, np.array(weights).T) + biases\n",
        "output\n",
        "\n"
      ],
      "execution_count": 6,
      "outputs": [
        {
          "output_type": "execute_result",
          "data": {
            "text/plain": [
              "array([[ 4.8  ,  1.21 ,  2.385],\n",
              "       [ 8.9  , -1.81 ,  0.2  ],\n",
              "       [ 1.41 ,  1.051,  0.026]])"
            ]
          },
          "metadata": {
            "tags": []
          },
          "execution_count": 6
        }
      ]
    },
    {
      "cell_type": "markdown",
      "metadata": {
        "id": "WZwhqOKT_F6q"
      },
      "source": [
        "2 Layer neural network"
      ]
    },
    {
      "cell_type": "code",
      "metadata": {
        "id": "Yx3B3fyc_FP-",
        "outputId": "2f826445-9d07-4918-9d02-05296003c40e",
        "colab": {
          "base_uri": "https://localhost:8080/",
          "height": 68
        }
      },
      "source": [
        "inputs = [[1, 2, 3, 2.5], [2., 5., -1., 2], [-1.5, 2.7, 3.3, -0.8]]\n",
        "\n",
        "weights = [[0.2, 0.8, -0.5, 1],\n",
        "           [0.5, -0.91, 0.26, -0.5],\n",
        "           [-0.26, -0.27, 0.17, 0.87]]\n",
        "\n",
        "biases = [2, 3, 0.5]\n",
        "\n",
        "weights2 = [[0.1, -0.14, 0.5],\n",
        "            [-0.5, 0.12, -0.33],\n",
        "            [-0.44, 0.73, -0.13]]\n",
        "\n",
        "biases2 = [-1, 2, -0.5]\n",
        "\n",
        "layered1_output = np.dot(inputs, np.array(weights).T) + biases\n",
        "layered2_output = np.dot(layered1_output, np.array(weights2).T) + biases2\n",
        "print(layered2_output)"
      ],
      "execution_count": 14,
      "outputs": [
        {
          "output_type": "stream",
          "text": [
            "[[ 0.5031  -1.04185 -2.03875]\n",
            " [ 0.2434  -2.7332  -5.7633 ]\n",
            " [-0.99314  1.41254 -0.35655]]\n"
          ],
          "name": "stdout"
        }
      ]
    }
  ]
}