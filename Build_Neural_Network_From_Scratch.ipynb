{
  "nbformat": 4,
  "nbformat_minor": 0,
  "metadata": {
    "colab": {
      "name": "Build_Neural_Network_From_Scratch.ipynb",
      "provenance": [],
      "authorship_tag": "ABX9TyPXw3Jyn+IxnTVPQrEEIAcu",
      "include_colab_link": true
    },
    "kernelspec": {
      "name": "python3",
      "display_name": "Python 3"
    }
  },
  "cells": [
    {
      "cell_type": "markdown",
      "metadata": {
        "id": "view-in-github",
        "colab_type": "text"
      },
      "source": [
        "<a href=\"https://colab.research.google.com/github/arunprasath2007/FrameworkILoveAndToExperiment/blob/master/Build_Neural_Network_From_Scratch.ipynb\" target=\"_parent\"><img src=\"https://colab.research.google.com/assets/colab-badge.svg\" alt=\"Open In Colab\"/></a>"
      ]
    },
    {
      "cell_type": "code",
      "metadata": {
        "id": "2UuBEmwcSNFh"
      },
      "source": [
        "import numpy as np"
      ],
      "execution_count": 1,
      "outputs": []
    },
    {
      "cell_type": "code",
      "metadata": {
        "id": "1UERvEAnRNOv"
      },
      "source": [
        "class Layer_Dense:\n",
        "  def __init__(self, inputs, neurons):\n",
        "    self.weights = 0.01 * np.random.randn(inputs, neurons)\n",
        "    self.bias = np.zeros((1, neurons))\n",
        "\n",
        "  def forward(self, inputs):\n",
        "    self.outputs = np.dot(inputs, self.weights) + self.bias"
      ],
      "execution_count": 27,
      "outputs": []
    },
    {
      "cell_type": "code",
      "metadata": {
        "id": "U71cfmnuTlx6"
      },
      "source": [
        "class Activation_ReLU:\n",
        "  def forward(self, inputs):\n",
        "    self.outputs = np.maximum(0, inputs)"
      ],
      "execution_count": 29,
      "outputs": []
    },
    {
      "cell_type": "code",
      "metadata": {
        "id": "yUAK43uLUGB6"
      },
      "source": [
        "class Activation_SoftMax:\n",
        "  def forward(self, inputs):\n",
        "    exponents = np.exp(inputs - np.max(inputs, axis=1, keepdims=True))\n",
        "    self.outputs = exponents / np.sum(exponents, axis=1, keepdims=True)"
      ],
      "execution_count": 69,
      "outputs": []
    },
    {
      "cell_type": "code",
      "metadata": {
        "id": "uBMzwQGSqjSU"
      },
      "source": [
        "class Loss:\n",
        "  def calculate(self, pred, target):\n",
        "    confidence = self.forward(pred, target)\n",
        "\n",
        "    data_loss = np.mean(confidence)\n",
        "\n",
        "    return data_loss"
      ],
      "execution_count": 56,
      "outputs": []
    },
    {
      "cell_type": "code",
      "metadata": {
        "id": "ikU7TOmuatTu"
      },
      "source": [
        "class Loss_CategoricalCrossEntropy(Loss):\n",
        "  def forward(self, y_pred, y_true):\n",
        "    y_pred_clipped = np.clip(y_pred, 1e-7, 1-1e-7)\n",
        "\n",
        "    crossEntropyLoss = []\n",
        "\n",
        "    if len(y_true.shape) == 1:\n",
        "      crossEntropyLoss = y_pred_clipped[range(len(y_pred)), y_true]\n",
        "\n",
        "    elif len(y_true.shape) == 2:\n",
        "      crossEntropyLoss = np.sum(y_pred_clipped * y_true, axis=1, keepdims=True)\n",
        "\n",
        "    return -np.log(crossEntropyLoss)  \n"
      ],
      "execution_count": 60,
      "outputs": []
    },
    {
      "cell_type": "code",
      "metadata": {
        "id": "nUFJBGNPjVxP",
        "outputId": "9522180c-4caf-4fd4-ef9e-fa00ad06bef5",
        "colab": {
          "base_uri": "https://localhost:8080/",
          "height": 102
        }
      },
      "source": [
        "pip install nnfs"
      ],
      "execution_count": 4,
      "outputs": [
        {
          "output_type": "stream",
          "text": [
            "Collecting nnfs\n",
            "  Downloading https://files.pythonhosted.org/packages/06/8c/3003a41d5229e65da792331b060dcad8100a0a5b9760f8c2074cde864148/nnfs-0.5.1-py3-none-any.whl\n",
            "Requirement already satisfied: numpy in /usr/local/lib/python3.6/dist-packages (from nnfs) (1.18.5)\n",
            "Installing collected packages: nnfs\n",
            "Successfully installed nnfs-0.5.1\n"
          ],
          "name": "stdout"
        }
      ]
    },
    {
      "cell_type": "code",
      "metadata": {
        "id": "cPXkaTHCjZUr"
      },
      "source": [
        "import nnfs\n",
        "\n",
        "\n",
        "nnfs.init()"
      ],
      "execution_count": 5,
      "outputs": []
    },
    {
      "cell_type": "code",
      "metadata": {
        "id": "HglqtSQhkg1M"
      },
      "source": [
        "from nnfs.datasets import spiral_data"
      ],
      "execution_count": 10,
      "outputs": []
    },
    {
      "cell_type": "code",
      "metadata": {
        "id": "OUhQ-QNwjcnm",
        "outputId": "6387afac-c827-4dd7-d0b2-2b8e1c5fc3b0",
        "colab": {
          "base_uri": "https://localhost:8080/",
          "height": 34
        }
      },
      "source": [
        "X, y = spiral_data(samples=100, classes=3)\n",
        "\n",
        "dense1 = Layer_Dense(2, 3)\n",
        "\n",
        "activation1 = Activation_ReLU()\n",
        "\n",
        "dense2 = Layer_Dense(3, 3)\n",
        "\n",
        "activation2 = Activation_SoftMax()\n",
        "\n",
        "loss = Loss_CategoricalCrossEntropy()\n",
        "\n",
        "dense1.forward(X)\n",
        "\n",
        "activation1.forward(dense1.outputs)\n",
        "\n",
        "dense2.forward(activation1.outputs)\n",
        "\n",
        "activation2.forward(dense2.outputs)\n",
        "\n",
        "l = loss.calculate(activation2.outputs, y)\n",
        "l"
      ],
      "execution_count": 67,
      "outputs": [
        {
          "output_type": "execute_result",
          "data": {
            "text/plain": [
              "1.0986131"
            ]
          },
          "metadata": {
            "tags": []
          },
          "execution_count": 67
        }
      ]
    }
  ]
}