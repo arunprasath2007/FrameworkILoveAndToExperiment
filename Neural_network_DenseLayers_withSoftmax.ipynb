{
  "nbformat": 4,
  "nbformat_minor": 0,
  "metadata": {
    "colab": {
      "name": "Neural-network-DenseLayers_withSoftmax.ipynb",
      "provenance": [],
      "collapsed_sections": [],
      "authorship_tag": "ABX9TyNXj9LNtfAJuPW2GFn3/6iT",
      "include_colab_link": true
    },
    "kernelspec": {
      "name": "python3",
      "display_name": "Python 3"
    }
  },
  "cells": [
    {
      "cell_type": "markdown",
      "metadata": {
        "id": "view-in-github",
        "colab_type": "text"
      },
      "source": [
        "<a href=\"https://colab.research.google.com/github/arunprasath2007/FrameworkILoveAndToExperiment/blob/master/Neural_network_DenseLayers_withSoftmax.ipynb\" target=\"_parent\"><img src=\"https://colab.research.google.com/assets/colab-badge.svg\" alt=\"Open In Colab\"/></a>"
      ]
    },
    {
      "cell_type": "code",
      "metadata": {
        "id": "elwJHOawDxVg",
        "outputId": "94b970f8-6244-4084-8136-46969fd48660",
        "colab": {
          "base_uri": "https://localhost:8080/",
          "height": 102
        }
      },
      "source": [
        "import numpy as np\n",
        "\n",
        "n_inputs = 4\n",
        "n_neurons = 3\n",
        "\n",
        "f = np.random.randn(n_inputs, n_neurons) * 0.01\n",
        "print(f)\n",
        "\n",
        "b = np.zeros((1, n_neurons))\n",
        "print(b)"
      ],
      "execution_count": 6,
      "outputs": [
        {
          "output_type": "stream",
          "text": [
            "[[ 0.00189766  0.00743825 -0.00698525]\n",
            " [-0.01220351  0.00242107  0.00136837]\n",
            " [ 0.00871411 -0.00993321 -0.00173574]\n",
            " [ 0.00801876  0.00333919  0.00458774]]\n",
            "[[0. 0. 0.]]\n"
          ],
          "name": "stdout"
        }
      ]
    },
    {
      "cell_type": "code",
      "metadata": {
        "id": "Vca1UkcBI1iY",
        "outputId": "4886410f-2258-4965-f2c9-2f3f878b6d69",
        "colab": {
          "base_uri": "https://localhost:8080/",
          "height": 102
        }
      },
      "source": [
        "pip install nnfs"
      ],
      "execution_count": 7,
      "outputs": [
        {
          "output_type": "stream",
          "text": [
            "Collecting nnfs\n",
            "  Downloading https://files.pythonhosted.org/packages/06/8c/3003a41d5229e65da792331b060dcad8100a0a5b9760f8c2074cde864148/nnfs-0.5.1-py3-none-any.whl\n",
            "Requirement already satisfied: numpy in /usr/local/lib/python3.6/dist-packages (from nnfs) (1.18.5)\n",
            "Installing collected packages: nnfs\n",
            "Successfully installed nnfs-0.5.1\n"
          ],
          "name": "stdout"
        }
      ]
    },
    {
      "cell_type": "code",
      "metadata": {
        "id": "NQpupBa9C5gJ"
      },
      "source": [
        "import nnfs\n",
        "from nnfs.datasets import spiral_data\n",
        "\n",
        "nnfs.init()\n"
      ],
      "execution_count": 8,
      "outputs": []
    },
    {
      "cell_type": "code",
      "metadata": {
        "id": "c4NIOXArPZGt"
      },
      "source": [
        "\n",
        "class Layers_Dense:\n",
        "  def __init__(self, n_inputs, n_neurons):\n",
        "    self.weights = 0.01 * np.random.randn(n_inputs, n_neurons)\n",
        "    self.biases = np.zeros((1, n_neurons))\n",
        "  \n",
        "  def forward(self, inputs):\n",
        "    self.output = np.dot(inputs, self.weights) + self.biases\n"
      ],
      "execution_count": 9,
      "outputs": []
    },
    {
      "cell_type": "code",
      "metadata": {
        "id": "58Zxze2BNbtl"
      },
      "source": [
        "class Activation_ReLU:\n",
        "  def forward(self, inputs):\n",
        "    self.outputs = np.maximum(0, inputs)"
      ],
      "execution_count": 10,
      "outputs": []
    },
    {
      "cell_type": "code",
      "metadata": {
        "id": "P5cOYu4ykRKG"
      },
      "source": [
        "class Activation_Softmax:\n",
        "  def forward(self, inputs):\n",
        "    exponents = np.exp(inputs - np.max(inputs, axis=1, keepdims=True))\n",
        "\n",
        "    probabilities = exponents / np.sum(exponents, axis=1, keepdims=True)\n",
        "\n",
        "    self.outputs = probabilities"
      ],
      "execution_count": 8,
      "outputs": []
    },
    {
      "cell_type": "code",
      "metadata": {
        "id": "ZwlHt-2jWKi7"
      },
      "source": [
        "class Loss:\n",
        "  def calculate(self, y_pred, y_true):\n",
        "    loss_output = self.forward(y_pred, y_true)\n",
        "\n",
        "    loss_mean = np.mean(loss_output)\n",
        "\n",
        "    return loss_mean"
      ],
      "execution_count": 12,
      "outputs": []
    },
    {
      "cell_type": "code",
      "metadata": {
        "id": "k_HvYcQQWhbn"
      },
      "source": [
        "class Loss_CategoricalCrossEntropyLoss(Loss):\n",
        "  def forward(self, y_pred, y_true):\n",
        "    y_pred_clipped = np.clip(y_pred, 1e-7, 1-1e-7)\n",
        "\n",
        "    crossEntropyLoss = []\n",
        "\n",
        "    if len(y_true.shape) == 1:\n",
        "      crossEntropyLoss = y_pred_clipped[range(len(y_pred)), y_true]\n",
        "\n",
        "    elif len(y_true.shape) == 2:\n",
        "      crossEntropyLoss = np.sum(y_pred_clipped * y_true, axis=1)\n",
        "\n",
        "    log_loss = -np.log(crossEntropyLoss)\n",
        "\n",
        "    return log_loss  \n"
      ],
      "execution_count": 20,
      "outputs": []
    },
    {
      "cell_type": "code",
      "metadata": {
        "id": "1jKjySJXO3Y2",
        "outputId": "82248da3-34a2-4d0c-fc24-b947b5275cc3",
        "colab": {
          "base_uri": "https://localhost:8080/",
          "height": 119
        }
      },
      "source": [
        "X, y = spiral_data(samples=100, classes=3)\n",
        "\n",
        "dense = Layers_Dense(2, 3)\n",
        "\n",
        "dense.forward(X)\n",
        "\n",
        "activation = Activation_ReLU()\n",
        "\n",
        "activation.forward(dense.output)\n",
        "\n",
        "print(activation.outputs[:5])\n",
        "\n",
        "softMax = Activation_Softmax()\n",
        "\n",
        "softMax.forward(activation.outputs)\n",
        "\n",
        "print(softMax.outputs[:1])"
      ],
      "execution_count": 13,
      "outputs": [
        {
          "output_type": "stream",
          "text": [
            "[[0.0000000e+00 0.0000000e+00 0.0000000e+00]\n",
            " [0.0000000e+00 1.7795961e-04 0.0000000e+00]\n",
            " [3.0106357e-05 3.6696982e-04 0.0000000e+00]\n",
            " [0.0000000e+00 1.9415646e-04 0.0000000e+00]\n",
            " [0.0000000e+00 1.6941362e-04 1.2681631e-05]]\n",
            "[[0.33333334 0.33333334 0.33333334]]\n"
          ],
          "name": "stdout"
        }
      ]
    },
    {
      "cell_type": "code",
      "metadata": {
        "id": "B1eDCJOJm-0o",
        "outputId": "2be72c83-cf5e-4403-bf3e-fa1f77e93696",
        "colab": {
          "base_uri": "https://localhost:8080/",
          "height": 69
        }
      },
      "source": [
        "X, y = spiral_data(samples=100, classes=3)\n",
        "\n",
        "print(len(y.shape))\n",
        "\n",
        "\n",
        "dense1 = Layers_Dense(2, 3)\n",
        "\n",
        "activation1 = Activation_ReLU()\n",
        "\n",
        "dense2 = Layers_Dense(3, 3)\n",
        "\n",
        "activation2 = Activation_Softmax()\n",
        "\n",
        "loss = Loss_CategoricalCrossEntropyLoss()\n",
        "\n",
        "dense1.forward(X)\n",
        "\n",
        "activation1.forward(dense1.output)\n",
        "\n",
        "dense2.forward(activation1.outputs)\n",
        "\n",
        "activation2.forward(dense2.output)\n",
        "\n",
        "catLoss = loss.calculate(activation2.outputs, y)\n",
        "\n",
        "print(catLoss)\n",
        "\n"
      ],
      "execution_count": 27,
      "outputs": [
        {
          "output_type": "stream",
          "text": [
            "1\n"
          ],
          "name": "stdout"
        },
        {
          "output_type": "execute_result",
          "data": {
            "application/vnd.google.colaboratory.intrinsic+json": {
              "type": "string"
            },
            "text/plain": [
              "'\\ndense1 = Layers_Dense(2, 3)\\n\\nactivation1 = Activation_ReLU()\\n\\ndense2 = Layers_Dense(3, 3)\\n\\nactivation2 = Activation_Softmax()\\n\\nloss = Loss_CategoricalCrossEntropyLoss()\\n\\ndense1.forward(X)\\n\\nactivation1.forward(dense1.output)\\n\\ndense2.forward(activation1.outputs)\\n\\nactivation2.forward(dense2.output)\\n\\ncatLoss = loss.calculate(activation2.outputs, y)\\n\\nprint(catLoss)\\n\\n'"
            ]
          },
          "metadata": {
            "tags": []
          },
          "execution_count": 27
        }
      ]
    },
    {
      "cell_type": "code",
      "metadata": {
        "id": "fwrtr1-RalvN",
        "outputId": "4f77a37d-f96d-42ff-8347-c3de934227d7",
        "colab": {
          "base_uri": "https://localhost:8080/",
          "height": 34
        }
      },
      "source": [
        "softmax_outputs = np.array([[0.7, 0.1, 0.2],\n",
        "                            [0.1, 0.5, 0.4],\n",
        "                            [0.02, 0.9, 0.08]])\n",
        "class_targets = np.array([[1, 0, 0],\n",
        "                          [0, 1, 0],\n",
        "                          [0, 1, 0]])\n",
        "\n",
        "loss = Loss_CategoricalCrossEntropyLoss()\n",
        "\n",
        "catLoss = loss.calculate(softmax_outputs, class_targets)\n",
        "\n",
        "print(catLoss)\n"
      ],
      "execution_count": 23,
      "outputs": [
        {
          "output_type": "stream",
          "text": [
            "0.38506088005216804\n"
          ],
          "name": "stdout"
        }
      ]
    },
    {
      "cell_type": "code",
      "metadata": {
        "id": "XXRJ3ndXVjp5",
        "outputId": "7619b95a-d204-498c-810e-fbf2504a0b03",
        "colab": {
          "base_uri": "https://localhost:8080/",
          "height": 51
        }
      },
      "source": [
        "import numpy as np\n",
        "\n",
        "hidden_layer_output = np.array([[1, -2, 2]])\n",
        "\n",
        "relu_Output = np.maximum(0, hidden_layer_output)\n",
        "\n",
        "print(relu_Output)\n",
        "\n",
        "softMax = Activation_Softmax()\n",
        "\n",
        "softMax.forward(relu_Output)\n",
        "\n",
        "print(softMax.outputs)\n"
      ],
      "execution_count": 12,
      "outputs": [
        {
          "output_type": "stream",
          "text": [
            "[[1 0 2]]\n",
            "[[0.24472847 0.09003057 0.66524096]]\n"
          ],
          "name": "stdout"
        }
      ]
    }
  ]
}