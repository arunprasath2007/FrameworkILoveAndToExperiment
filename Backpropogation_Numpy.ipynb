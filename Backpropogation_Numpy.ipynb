{
  "nbformat": 4,
  "nbformat_minor": 0,
  "metadata": {
    "colab": {
      "name": "Backpropogation_Numpy.ipynb",
      "provenance": [],
      "collapsed_sections": [],
      "authorship_tag": "ABX9TyM7l88ULqVXteEUUBIkiQ3S",
      "include_colab_link": true
    },
    "kernelspec": {
      "name": "python3",
      "display_name": "Python 3"
    }
  },
  "cells": [
    {
      "cell_type": "markdown",
      "metadata": {
        "id": "view-in-github",
        "colab_type": "text"
      },
      "source": [
        "<a href=\"https://colab.research.google.com/github/arunprasath2007/FrameworkILoveAndToExperiment/blob/master/Backpropogation_Numpy.ipynb\" target=\"_parent\"><img src=\"https://colab.research.google.com/assets/colab-badge.svg\" alt=\"Open In Colab\"/></a>"
      ]
    },
    {
      "cell_type": "code",
      "metadata": {
        "id": "oqR0WaafAnSV",
        "outputId": "8321614b-c574-461d-e438-96562d251da0",
        "colab": {
          "base_uri": "https://localhost:8080/",
          "height": 153
        }
      },
      "source": [
        "import numpy as np\n",
        "\n",
        "# Passed in gradient from the next layer\n",
        "# for the purpose of this example we're going to use\n",
        "# an array of an incremental gradient values\n",
        "dvalues = np.array([[1., 1., 1.],\n",
        "                    [2., 2., 2.],\n",
        "                    [3., 3., 3.]])\n",
        "\n",
        "# We have 3 sets of inputs - samples\n",
        "inputs = np.array([[1, 2, 3, 2.5],\n",
        "                   [2., 5., -1., 2],\n",
        "                   [-1.5, 2.7, 3.3, -0.8]])\n",
        "# We have 3 sets of weights - one set for each neuron\n",
        "# we have 4 inputs, thus 4 weights\n",
        "# recall that we keep weights transposed\n",
        "weights = np.array([[0.2, 0.8, -0.5, 1],\n",
        "                    [0.5, -0.91, 0.26, -0.5],\n",
        "                    [-0.26, -0.27, 0.17, 0.87]]).T\n",
        "\n",
        "# One bias for each neuron\n",
        "# biases are the row vector with a shape (1, neurons)\n",
        "biases = np.array([[2, 3, 0.5]])\n",
        "\n",
        "layers_outputs = np.dot(inputs, weights) + biases\n",
        "relu_outputs = np.maximum(0, layers_outputs)\n",
        "\n",
        "\n",
        "drelu = relu_outputs.copy()\n",
        "drelu[layers_outputs <= 0] = 0\n",
        "drelu\n",
        "\n",
        "dinputs = np.dot(drelu, weights.T)\n",
        "\n",
        "dweights = np.dot(inputs.T, drelu)\n",
        "\n",
        "dbias = np.sum(drelu, axis=0, keepdims=True)\n",
        "\n",
        "print(weights, biases)\n",
        "\n",
        "weights += -0.001 * dweights\n",
        "biases += -0.001 * dbias\n",
        "\n",
        "print(weights, biases)"
      ],
      "execution_count": 8,
      "outputs": [
        {
          "output_type": "stream",
          "text": [
            "[[ 0.2   0.5  -0.26]\n",
            " [ 0.8  -0.91 -0.27]\n",
            " [-0.5   0.26  0.17]\n",
            " [ 1.   -0.5   0.87]] [[2.  3.  0.5]]\n",
            "[[ 0.179515   0.5003665 -0.262746 ]\n",
            " [ 0.742093  -0.9152577 -0.2758402]\n",
            " [-0.510153   0.2529017  0.1629592]\n",
            " [ 0.971328  -0.5021842  0.8636583]] [[1.98489  2.997739 0.497389]]\n"
          ],
          "name": "stdout"
        }
      ]
    }
  ]
}