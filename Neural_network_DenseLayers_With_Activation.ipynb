{
  "nbformat": 4,
  "nbformat_minor": 0,
  "metadata": {
    "colab": {
      "name": "Neural-network-DenseLayers.ipynb",
      "provenance": [],
      "collapsed_sections": [],
      "authorship_tag": "ABX9TyO70otrmWK0ySRBlrPWP9Ok",
      "include_colab_link": true
    },
    "kernelspec": {
      "name": "python3",
      "display_name": "Python 3"
    }
  },
  "cells": [
    {
      "cell_type": "markdown",
      "metadata": {
        "id": "view-in-github",
        "colab_type": "text"
      },
      "source": [
        "<a href=\"https://colab.research.google.com/github/arunprasath2007/FrameworkILoveAndToExperiment/blob/master/Neural_network_DenseLayers_With_Activation.ipynb\" target=\"_parent\"><img src=\"https://colab.research.google.com/assets/colab-badge.svg\" alt=\"Open In Colab\"/></a>"
      ]
    },
    {
      "cell_type": "code",
      "metadata": {
        "id": "elwJHOawDxVg",
        "outputId": "e62e81c6-8c56-466e-9c5d-dceeaf348b9f",
        "colab": {
          "base_uri": "https://localhost:8080/",
          "height": 102
        }
      },
      "source": [
        "import numpy as np\n",
        "\n",
        "n_inputs = 4\n",
        "n_neurons = 3\n",
        "\n",
        "f = np.random.randn(n_inputs, n_neurons) * 0.01\n",
        "print(f)\n",
        "\n",
        "b = np.zeros((1, n_neurons))\n",
        "print(b)"
      ],
      "execution_count": 1,
      "outputs": [
        {
          "output_type": "stream",
          "text": [
            "[[-0.00365605  0.01859097  0.00385326]\n",
            " [ 0.00558719 -0.01607076  0.00120972]\n",
            " [-0.00216816 -0.00134624 -0.00961468]\n",
            " [-0.01091849 -0.01075953  0.00672779]]\n",
            "[[0. 0. 0.]]\n"
          ],
          "name": "stdout"
        }
      ]
    },
    {
      "cell_type": "code",
      "metadata": {
        "id": "Vca1UkcBI1iY",
        "outputId": "fba2d668-a938-47a5-d906-f17eccc7727a",
        "colab": {
          "base_uri": "https://localhost:8080/",
          "height": 102
        }
      },
      "source": [
        "pip install nnfs"
      ],
      "execution_count": 2,
      "outputs": [
        {
          "output_type": "stream",
          "text": [
            "Collecting nnfs\n",
            "  Downloading https://files.pythonhosted.org/packages/06/8c/3003a41d5229e65da792331b060dcad8100a0a5b9760f8c2074cde864148/nnfs-0.5.1-py3-none-any.whl\n",
            "Requirement already satisfied: numpy in /usr/local/lib/python3.6/dist-packages (from nnfs) (1.18.5)\n",
            "Installing collected packages: nnfs\n",
            "Successfully installed nnfs-0.5.1\n"
          ],
          "name": "stdout"
        }
      ]
    },
    {
      "cell_type": "code",
      "metadata": {
        "id": "NQpupBa9C5gJ"
      },
      "source": [
        "import nnfs\n",
        "from nnfs.datasets import spiral_data\n",
        "\n",
        "nnfs.init()\n"
      ],
      "execution_count": 3,
      "outputs": []
    },
    {
      "cell_type": "code",
      "metadata": {
        "id": "c4NIOXArPZGt"
      },
      "source": [
        "\n",
        "class Layers_Dense:\n",
        "  def __init__(self, n_inputs, n_neurons):\n",
        "    self.weights = 0.01 * np.random.randn(n_inputs, n_neurons)\n",
        "    self.biases = np.zeros((1, n_neurons))\n",
        "  \n",
        "  def forward(self, inputs):\n",
        "    self.output = np.dot(inputs, self.weights) + self.biases\n"
      ],
      "execution_count": 7,
      "outputs": []
    },
    {
      "cell_type": "code",
      "metadata": {
        "id": "58Zxze2BNbtl"
      },
      "source": [
        "class Activation_ReLU:\n",
        "  def forward(self, inputs):\n",
        "    self.outputs = np.maximum(0, inputs)"
      ],
      "execution_count": 8,
      "outputs": []
    },
    {
      "cell_type": "code",
      "metadata": {
        "id": "P5cOYu4ykRKG"
      },
      "source": [
        "class Activation_Softmax:\n",
        "  def forward(self, inputs):\n",
        "    exponents = np.exp(inputs - np.max(inputs, axis=1, keepdims=True))\n",
        "\n",
        "    probabilities = exponents / np.sum(exponents, axis=1, keepdims=True)\n",
        "\n",
        "    self.outputs = probabilities"
      ],
      "execution_count": 11,
      "outputs": []
    },
    {
      "cell_type": "code",
      "metadata": {
        "id": "1jKjySJXO3Y2",
        "outputId": "82248da3-34a2-4d0c-fc24-b947b5275cc3",
        "colab": {
          "base_uri": "https://localhost:8080/",
          "height": 119
        }
      },
      "source": [
        "X, y = spiral_data(samples=100, classes=3)\n",
        "\n",
        "dense = Layers_Dense(2, 3)\n",
        "\n",
        "dense.forward(X)\n",
        "\n",
        "activation = Activation_ReLU()\n",
        "\n",
        "activation.forward(dense.output)\n",
        "\n",
        "print(activation.outputs[:5])\n",
        "\n",
        "softMax = Activation_Softmax()\n",
        "\n",
        "softMax.forward(activation.outputs)\n",
        "\n",
        "print(softMax.outputs[:1])"
      ],
      "execution_count": 13,
      "outputs": [
        {
          "output_type": "stream",
          "text": [
            "[[0.0000000e+00 0.0000000e+00 0.0000000e+00]\n",
            " [0.0000000e+00 1.7795961e-04 0.0000000e+00]\n",
            " [3.0106357e-05 3.6696982e-04 0.0000000e+00]\n",
            " [0.0000000e+00 1.9415646e-04 0.0000000e+00]\n",
            " [0.0000000e+00 1.6941362e-04 1.2681631e-05]]\n",
            "[[0.33333334 0.33333334 0.33333334]]\n"
          ],
          "name": "stdout"
        }
      ]
    },
    {
      "cell_type": "code",
      "metadata": {
        "id": "B1eDCJOJm-0o",
        "outputId": "f224b101-3488-42c3-edec-a78ff98277c5",
        "colab": {
          "base_uri": "https://localhost:8080/",
          "height": 102
        }
      },
      "source": [
        "X, y = spiral_data(samples=100, classes=3)\n",
        "\n",
        "dense1 = Layers_Dense(2, 3)\n",
        "\n",
        "activation1 = Activation_ReLU()\n",
        "\n",
        "dense2 = Layers_Dense(3, 3)\n",
        "\n",
        "activation2 = Activation_Softmax()\n",
        "\n",
        "dense1.forward(X)\n",
        "\n",
        "activation1.forward(dense1.output)\n",
        "\n",
        "dense2.forward(activation1.outputs)\n",
        "\n",
        "activation2.forward(dense2.output)\n",
        "\n",
        "print(activation2.outputs[:5])\n",
        "\n"
      ],
      "execution_count": 39,
      "outputs": [
        {
          "output_type": "stream",
          "text": [
            "[[0.33333334 0.33333334 0.33333334]\n",
            " [0.33333308 0.3333336  0.3333333 ]\n",
            " [0.33333284 0.33333385 0.3333333 ]\n",
            " [0.3333326  0.3333341  0.3333333 ]\n",
            " [0.33333233 0.3333344  0.3333333 ]]\n"
          ],
          "name": "stdout"
        }
      ]
    }
  ]
}